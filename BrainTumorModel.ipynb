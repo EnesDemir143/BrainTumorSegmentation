{
 "cells": [
  {
   "cell_type": "code",
   "execution_count": 1,
   "metadata": {},
   "outputs": [],
   "source": [
    "import torch\n",
    "import torch.nn as nn\n",
    "import numpy as np\n",
    "import nibabel as nib"
   ]
  },
  {
   "cell_type": "code",
   "execution_count": 2,
   "metadata": {},
   "outputs": [
    {
     "name": "stderr",
     "output_type": "stream",
     "text": [
      "/Users/enesdemir/Desktop/BrainTumorModel/.venv/lib/python3.13/site-packages/tqdm/auto.py:21: TqdmWarning: IProgress not found. Please update jupyter and ipywidgets. See https://ipywidgets.readthedocs.io/en/stable/user_install.html\n",
      "  from .autonotebook import tqdm as notebook_tqdm\n"
     ]
    },
    {
     "name": "stdout",
     "output_type": "stream",
     "text": [
      "Path to dataset files: /Users/enesdemir/.cache/kagglehub/datasets/awsaf49/brats20-dataset-training-validation/versions/1\n"
     ]
    }
   ],
   "source": [
    "import kagglehub\n",
    "\n",
    "# Download latest version\n",
    "path = kagglehub.dataset_download(\"awsaf49/brats20-dataset-training-validation\")\n",
    "\n",
    "print(\"Path to dataset files:\", path)"
   ]
  },
  {
   "cell_type": "code",
   "execution_count": 10,
   "metadata": {},
   "outputs": [],
   "source": [
    "import os \n",
    "from torch.utils.data import Dataset, DataLoader\n",
    "from torchio import Subject, ScalarImage, LabelMap\n",
    "\n",
    "class BraTSDataset(Dataset):\n",
    "    def __init__(self, folders, transform=None):\n",
    "        self.transform = transform\n",
    "        self.folders = folders\n",
    "    \n",
    "    def __len__(self):\n",
    "        return len(self.folders)\n",
    "    \n",
    "    def __getitem__(self, idx):\n",
    "            flair_path = os.path.join(self.folders[idx], f\"{os.path.basename(self.folders[idx])}_flair.nii\")\n",
    "            t1_path = os.path.join(self.folders[idx], f\"{os.path.basename(self.folders[idx])}_t1.nii\")\n",
    "            t1ce_path = os.path.join(self.folders[idx], f\"{os.path.basename(self.folders[idx])}_t1ce.nii\")\n",
    "            t2_path = os.path.join(self.folders[idx], f\"{os.path.basename(self.folders[idx])}_t2.nii\")\n",
    "            seg_path = os.path.join(self.folders[idx], f\"{os.path.basename(self.folders[idx])}_seg.nii\")\n",
    "\n",
    "            subject = Subject(\n",
    "                flair=ScalarImage(flair_path),  \n",
    "                t1ce=ScalarImage(t1ce_path),\n",
    "                t2=ScalarImage(t2_path),\n",
    "                seg=LabelMap(seg_path), \n",
    "                t1=ScalarImage(t1_path)\n",
    "            )\n",
    "\n",
    "            if self.transform:\n",
    "                transformed_subject = self.transform(subject)\n",
    "                input_tensor = torch.stack([\n",
    "                    transformed_subject.flair.data,\n",
    "                    transformed_subject.t1ce.data,\n",
    "                    transformed_subject.t2.data,\n",
    "                    transformed_subject.t1.data\n",
    "                ], dim=0)  # Şekil: [4, 1, 128, 128, 128]\n",
    "                label = transformed_subject.seg.data  # Şekil: [1, 128, 128, 128]\n",
    "                \n",
    "                # Etiketleri one-hot encoding ile dönüştür\n",
    "                label = label.squeeze(0)  # Şekil: [128, 128, 128]\n",
    "                # BraTS etiketlerini yeniden eşle (0, 1, 2, 4 -> 0, 1, 2, 3)\n",
    "                label_mapped = torch.zeros_like(label)\n",
    "                label_mapped[label == 1] = 1  # Nekroz\n",
    "                label_mapped[label == 2] = 2  # Ödem\n",
    "                label_mapped[label == 4] = 3  # Güçlendirici tümör\n",
    "                \n",
    "                # One-hot encoding\n",
    "                label_one_hot = torch.zeros(4, 128, 128, 128)  # 4 sınıf için\n",
    "                for c in range(4):\n",
    "                    label_one_hot[c] = (label_mapped == c).float()\n",
    "                label = label_one_hot  # Şekil: [4, 128, 128, 128]\n",
    "            else:\n",
    "                flair = torch.from_numpy(nib.load(flair_path).get_fdata()).float()\n",
    "                t1ce = torch.from_numpy(nib.load(t1ce_path).get_fdata()).float()\n",
    "                t2 = torch.from_numpy(nib.load(t2_path).get_fdata()).float()\n",
    "                t1 = torch.from_numpy(nib.load(t1_path).get_fdata()).float()\n",
    "                input_tensor = torch.stack([flair, t1ce, t2, t1], dim=0)\n",
    "                label = torch.from_numpy(nib.load(seg_path).get_fdata()).float()\n",
    "                \n",
    "                # Etiketleri one-hot encoding ile dönüştür\n",
    "                label_mapped = torch.zeros_like(label)\n",
    "                label_mapped[label == 1] = 1\n",
    "                label_mapped[label == 2] = 2\n",
    "                label_mapped[label == 4] = 3\n",
    "                \n",
    "                label_one_hot = torch.zeros(4, 128, 128, 128)\n",
    "                for c in range(4):\n",
    "                    label_one_hot[c] = (label_mapped == c).float()\n",
    "                label = label_one_hot\n",
    "\n",
    "            return input_tensor, label"
   ]
  },
  {
   "cell_type": "code",
   "execution_count": 11,
   "metadata": {},
   "outputs": [],
   "source": [
    "from sklearn.model_selection import train_test_split\n",
    "\n",
    "path = '/Users/enesdemir/.cache/kagglehub/datasets/awsaf49/brats20-dataset-training-validation/versions/1'\n",
    "real_path = os.path.join(path, 'BraTS2020_TrainingData/MICCAI_BraTS2020_TrainingData')\n",
    "\n",
    "all_folders = [os.path.join(real_path,f) for f in os.listdir(real_path) if not f.endswith('.csv')]\n",
    "\n",
    "train_folders, val_folders = train_test_split(all_folders, test_size=0.2, random_state=42)"
   ]
  },
  {
   "cell_type": "markdown",
   "metadata": {},
   "source": [
    "Aşagıdaki data augmentiona araştırıcam"
   ]
  },
  {
   "cell_type": "code",
   "execution_count": 12,
   "metadata": {},
   "outputs": [],
   "source": [
    "import torchio as tio\n",
    "\n",
    "transform = tio.Compose([\n",
    "    tio.ZNormalization(masking_method=tio.ZNormalization.mean),  # Normalizasyon\n",
    "    tio.CropOrPad((128, 128, 128)),  # Kırpma\n",
    "    tio.RandomAffine(degrees=15, scales=(0.9, 1.1)),  # Augmentation\n",
    "    tio.RandomNoise(std=0.1),  # Gürültü ekleme\n",
    "])"
   ]
  },
  {
   "cell_type": "code",
   "execution_count": 13,
   "metadata": {},
   "outputs": [
    {
     "name": "stdout",
     "output_type": "stream",
     "text": [
      "torch.Size([4, 4, 1, 128, 128, 128])\n",
      "torch.Size([4, 4, 128, 128, 128])\n",
      "torch.Size([4, 4, 1, 128, 128, 128])\n",
      "torch.Size([4, 4, 128, 128, 128])\n"
     ]
    }
   ],
   "source": [
    "training_set = BraTSDataset(train_folders,transform=transform)\n",
    "training_loader = DataLoader(training_set,\n",
    "                             batch_size=4,\n",
    "                             shuffle=True,\n",
    "                             num_workers=0)\n",
    "\n",
    "validation_set = BraTSDataset(val_folders,transform=transform)\n",
    "validation_loader = DataLoader(validation_set,\n",
    "                               batch_size=4,\n",
    "                               shuffle=False,\n",
    "                               num_workers=0)\n",
    "\n",
    "for images, labels in training_loader:\n",
    "    print(images.shape)\n",
    "    print(labels.shape)\n",
    "    break\n",
    "\n",
    "for images, labels in validation_loader:\n",
    "    print(images.shape)\n",
    "    print(labels.shape)\n",
    "    break\n"
   ]
  },
  {
   "cell_type": "code",
   "execution_count": 14,
   "metadata": {},
   "outputs": [],
   "source": [
    "import monai\n",
    "from monai.networks.nets import UNet\n",
    "import torch.optim as optim\n",
    "\n",
    "\n",
    "class BrainTumorModel(nn.Module):\n",
    "    def __init__(self, in_channels=4, out_channels=4):  # out_channels=1 olarak değiştirildi\n",
    "        super(BrainTumorModel, self).__init__()\n",
    "        \n",
    "        self.model = UNet(\n",
    "            spatial_dims=3,\n",
    "            in_channels=in_channels,\n",
    "            out_channels=out_channels,\n",
    "            channels=(16, 32, 64, 128, 256),\n",
    "            strides=(2, 2, 2, 2),\n",
    "            num_res_units=2\n",
    "        )\n",
    "\n",
    "        for param in list(self.model.parameters())[:-10]:\n",
    "            param.requires_grad = False\n",
    "\n",
    "    def forward(self, x):\n",
    "        return self.model(x)"
   ]
  },
  {
   "cell_type": "code",
   "execution_count": 15,
   "metadata": {},
   "outputs": [],
   "source": [
    "def train_model(model,training_loader,validation_loader,num_epochs=50):\n",
    "    device = torch.device('cpu')\n",
    "\n",
    "    model.to(device)\n",
    "\n",
    "    criterion = monai.losses.DiceLoss(sigmoid=True)\n",
    "    optimizer = optim.Adam(model.parameters(), lr = 1e-4)\n",
    "\n",
    "    scheduler = optim.lr_scheduler.ReduceLROnPlateau(optimizer, 'min', patience=5)\n",
    "\n",
    "    for epochs in range(num_epochs):\n",
    "\n",
    "        model.train()\n",
    "        train_loss = 0\n",
    "\n",
    "        for images,labels in training_loader:\n",
    "            inputs = images.squeeze(2).to(device)\n",
    "            print(inputs.shape)\n",
    "\n",
    "            labels = labels.to(device)\n",
    "            print(labels.shape)\n",
    "\n",
    "            optimizer.zero_grad()\n",
    "            outputs = model(inputs)\n",
    "            loss = criterion(outputs,labels)\n",
    "            loss.backward()\n",
    "            optimizer.step()\n",
    "\n",
    "            train_loss +=loss.item()\n",
    "\n",
    "        model.eval()\n",
    "        val_loss = 0\n",
    "\n",
    "        with torch.no_grad():\n",
    "            for images,labels in validation_loader:\n",
    "                inputs = images.squeeze(2).to(device)\n",
    "                print(inputs.shape)\n",
    "                labels = labels.to(device)\n",
    "                outputs = model(inputs)\n",
    "                loss = criterion(outputs, labels)\n",
    "                val_loss += loss.item()\n",
    "\n",
    "        scheduler.step(val_loss)\n",
    "\n",
    "        print(f'Epoch {epochs+1}/{num_epochs}')\n",
    "        print(f'Training Loss: {train_loss/len(training_loader):.4f}')\n",
    "        print(f'Validation Loss: {val_loss/len(validation_loader):.4f}')\n"
   ]
  },
  {
   "cell_type": "code",
   "execution_count": 16,
   "metadata": {},
   "outputs": [
    {
     "name": "stdout",
     "output_type": "stream",
     "text": [
      "torch.Size([4, 4, 128, 128, 128])\n",
      "torch.Size([4, 4, 128, 128, 128])\n",
      "torch.Size([4, 4, 128, 128, 128])\n",
      "torch.Size([4, 4, 128, 128, 128])\n",
      "torch.Size([4, 4, 128, 128, 128])\n",
      "torch.Size([4, 4, 128, 128, 128])\n",
      "torch.Size([4, 4, 128, 128, 128])\n",
      "torch.Size([4, 4, 128, 128, 128])\n",
      "torch.Size([4, 4, 128, 128, 128])\n",
      "torch.Size([4, 4, 128, 128, 128])\n",
      "torch.Size([4, 4, 128, 128, 128])\n",
      "torch.Size([4, 4, 128, 128, 128])\n",
      "torch.Size([4, 4, 128, 128, 128])\n",
      "torch.Size([4, 4, 128, 128, 128])\n",
      "torch.Size([4, 4, 128, 128, 128])\n",
      "torch.Size([4, 4, 128, 128, 128])\n",
      "torch.Size([4, 4, 128, 128, 128])\n",
      "torch.Size([4, 4, 128, 128, 128])\n",
      "torch.Size([4, 4, 128, 128, 128])\n",
      "torch.Size([4, 4, 128, 128, 128])\n",
      "torch.Size([4, 4, 128, 128, 128])\n",
      "torch.Size([4, 4, 128, 128, 128])\n",
      "torch.Size([4, 4, 128, 128, 128])\n",
      "torch.Size([4, 4, 128, 128, 128])\n",
      "torch.Size([4, 4, 128, 128, 128])\n",
      "torch.Size([4, 4, 128, 128, 128])\n",
      "torch.Size([4, 4, 128, 128, 128])\n",
      "torch.Size([4, 4, 128, 128, 128])\n",
      "torch.Size([4, 4, 128, 128, 128])\n",
      "torch.Size([4, 4, 128, 128, 128])\n",
      "torch.Size([4, 4, 128, 128, 128])\n",
      "torch.Size([4, 4, 128, 128, 128])\n",
      "torch.Size([4, 4, 128, 128, 128])\n",
      "torch.Size([4, 4, 128, 128, 128])\n"
     ]
    },
    {
     "ename": "KeyboardInterrupt",
     "evalue": "",
     "output_type": "error",
     "traceback": [
      "\u001b[0;31m---------------------------------------------------------------------------\u001b[0m",
      "\u001b[0;31mKeyboardInterrupt\u001b[0m                         Traceback (most recent call last)",
      "Cell \u001b[0;32mIn[16], line 3\u001b[0m\n\u001b[1;32m      1\u001b[0m model \u001b[38;5;241m=\u001b[39m BrainTumorModel()\n\u001b[0;32m----> 3\u001b[0m \u001b[43mtrain_model\u001b[49m\u001b[43m(\u001b[49m\u001b[43mmodel\u001b[49m\u001b[43m,\u001b[49m\u001b[43mtraining_loader\u001b[49m\u001b[43m,\u001b[49m\u001b[43mvalidation_loader\u001b[49m\u001b[43m,\u001b[49m\u001b[38;5;241;43m50\u001b[39;49m\u001b[43m)\u001b[49m\n",
      "Cell \u001b[0;32mIn[15], line 26\u001b[0m, in \u001b[0;36mtrain_model\u001b[0;34m(model, training_loader, validation_loader, num_epochs)\u001b[0m\n\u001b[1;32m     24\u001b[0m outputs \u001b[38;5;241m=\u001b[39m model(inputs)\n\u001b[1;32m     25\u001b[0m loss \u001b[38;5;241m=\u001b[39m criterion(outputs,labels)\n\u001b[0;32m---> 26\u001b[0m \u001b[43mloss\u001b[49m\u001b[38;5;241;43m.\u001b[39;49m\u001b[43mbackward\u001b[49m\u001b[43m(\u001b[49m\u001b[43m)\u001b[49m\n\u001b[1;32m     27\u001b[0m optimizer\u001b[38;5;241m.\u001b[39mstep()\n\u001b[1;32m     29\u001b[0m train_loss \u001b[38;5;241m+\u001b[39m\u001b[38;5;241m=\u001b[39mloss\u001b[38;5;241m.\u001b[39mitem()\n",
      "File \u001b[0;32m~/Desktop/BrainTumorModel/.venv/lib/python3.13/site-packages/torch/_tensor.py:626\u001b[0m, in \u001b[0;36mTensor.backward\u001b[0;34m(self, gradient, retain_graph, create_graph, inputs)\u001b[0m\n\u001b[1;32m    616\u001b[0m \u001b[38;5;28;01mif\u001b[39;00m has_torch_function_unary(\u001b[38;5;28mself\u001b[39m):\n\u001b[1;32m    617\u001b[0m     \u001b[38;5;28;01mreturn\u001b[39;00m handle_torch_function(\n\u001b[1;32m    618\u001b[0m         Tensor\u001b[38;5;241m.\u001b[39mbackward,\n\u001b[1;32m    619\u001b[0m         (\u001b[38;5;28mself\u001b[39m,),\n\u001b[0;32m   (...)\u001b[0m\n\u001b[1;32m    624\u001b[0m         inputs\u001b[38;5;241m=\u001b[39minputs,\n\u001b[1;32m    625\u001b[0m     )\n\u001b[0;32m--> 626\u001b[0m \u001b[43mtorch\u001b[49m\u001b[38;5;241;43m.\u001b[39;49m\u001b[43mautograd\u001b[49m\u001b[38;5;241;43m.\u001b[39;49m\u001b[43mbackward\u001b[49m\u001b[43m(\u001b[49m\n\u001b[1;32m    627\u001b[0m \u001b[43m    \u001b[49m\u001b[38;5;28;43mself\u001b[39;49m\u001b[43m,\u001b[49m\u001b[43m \u001b[49m\u001b[43mgradient\u001b[49m\u001b[43m,\u001b[49m\u001b[43m \u001b[49m\u001b[43mretain_graph\u001b[49m\u001b[43m,\u001b[49m\u001b[43m \u001b[49m\u001b[43mcreate_graph\u001b[49m\u001b[43m,\u001b[49m\u001b[43m \u001b[49m\u001b[43minputs\u001b[49m\u001b[38;5;241;43m=\u001b[39;49m\u001b[43minputs\u001b[49m\n\u001b[1;32m    628\u001b[0m \u001b[43m\u001b[49m\u001b[43m)\u001b[49m\n",
      "File \u001b[0;32m~/Desktop/BrainTumorModel/.venv/lib/python3.13/site-packages/torch/autograd/__init__.py:347\u001b[0m, in \u001b[0;36mbackward\u001b[0;34m(tensors, grad_tensors, retain_graph, create_graph, grad_variables, inputs)\u001b[0m\n\u001b[1;32m    342\u001b[0m     retain_graph \u001b[38;5;241m=\u001b[39m create_graph\n\u001b[1;32m    344\u001b[0m \u001b[38;5;66;03m# The reason we repeat the same comment below is that\u001b[39;00m\n\u001b[1;32m    345\u001b[0m \u001b[38;5;66;03m# some Python versions print out the first line of a multi-line function\u001b[39;00m\n\u001b[1;32m    346\u001b[0m \u001b[38;5;66;03m# calls in the traceback and some print out the last line\u001b[39;00m\n\u001b[0;32m--> 347\u001b[0m \u001b[43m_engine_run_backward\u001b[49m\u001b[43m(\u001b[49m\n\u001b[1;32m    348\u001b[0m \u001b[43m    \u001b[49m\u001b[43mtensors\u001b[49m\u001b[43m,\u001b[49m\n\u001b[1;32m    349\u001b[0m \u001b[43m    \u001b[49m\u001b[43mgrad_tensors_\u001b[49m\u001b[43m,\u001b[49m\n\u001b[1;32m    350\u001b[0m \u001b[43m    \u001b[49m\u001b[43mretain_graph\u001b[49m\u001b[43m,\u001b[49m\n\u001b[1;32m    351\u001b[0m \u001b[43m    \u001b[49m\u001b[43mcreate_graph\u001b[49m\u001b[43m,\u001b[49m\n\u001b[1;32m    352\u001b[0m \u001b[43m    \u001b[49m\u001b[43minputs\u001b[49m\u001b[43m,\u001b[49m\n\u001b[1;32m    353\u001b[0m \u001b[43m    \u001b[49m\u001b[43mallow_unreachable\u001b[49m\u001b[38;5;241;43m=\u001b[39;49m\u001b[38;5;28;43;01mTrue\u001b[39;49;00m\u001b[43m,\u001b[49m\n\u001b[1;32m    354\u001b[0m \u001b[43m    \u001b[49m\u001b[43maccumulate_grad\u001b[49m\u001b[38;5;241;43m=\u001b[39;49m\u001b[38;5;28;43;01mTrue\u001b[39;49;00m\u001b[43m,\u001b[49m\n\u001b[1;32m    355\u001b[0m \u001b[43m\u001b[49m\u001b[43m)\u001b[49m\n",
      "File \u001b[0;32m~/Desktop/BrainTumorModel/.venv/lib/python3.13/site-packages/torch/autograd/graph.py:823\u001b[0m, in \u001b[0;36m_engine_run_backward\u001b[0;34m(t_outputs, *args, **kwargs)\u001b[0m\n\u001b[1;32m    821\u001b[0m     unregister_hooks \u001b[38;5;241m=\u001b[39m _register_logging_hooks_on_whole_graph(t_outputs)\n\u001b[1;32m    822\u001b[0m \u001b[38;5;28;01mtry\u001b[39;00m:\n\u001b[0;32m--> 823\u001b[0m     \u001b[38;5;28;01mreturn\u001b[39;00m \u001b[43mVariable\u001b[49m\u001b[38;5;241;43m.\u001b[39;49m\u001b[43m_execution_engine\u001b[49m\u001b[38;5;241;43m.\u001b[39;49m\u001b[43mrun_backward\u001b[49m\u001b[43m(\u001b[49m\u001b[43m  \u001b[49m\u001b[38;5;66;43;03m# Calls into the C++ engine to run the backward pass\u001b[39;49;00m\n\u001b[1;32m    824\u001b[0m \u001b[43m        \u001b[49m\u001b[43mt_outputs\u001b[49m\u001b[43m,\u001b[49m\u001b[43m \u001b[49m\u001b[38;5;241;43m*\u001b[39;49m\u001b[43margs\u001b[49m\u001b[43m,\u001b[49m\u001b[43m \u001b[49m\u001b[38;5;241;43m*\u001b[39;49m\u001b[38;5;241;43m*\u001b[39;49m\u001b[43mkwargs\u001b[49m\n\u001b[1;32m    825\u001b[0m \u001b[43m    \u001b[49m\u001b[43m)\u001b[49m  \u001b[38;5;66;03m# Calls into the C++ engine to run the backward pass\u001b[39;00m\n\u001b[1;32m    826\u001b[0m \u001b[38;5;28;01mfinally\u001b[39;00m:\n\u001b[1;32m    827\u001b[0m     \u001b[38;5;28;01mif\u001b[39;00m attach_logging_hooks:\n",
      "\u001b[0;31mKeyboardInterrupt\u001b[0m: "
     ]
    }
   ],
   "source": [
    "model = BrainTumorModel()\n",
    "\n",
    "train_model(model,training_loader,validation_loader,50)"
   ]
  },
  {
   "cell_type": "code",
   "execution_count": null,
   "metadata": {},
   "outputs": [],
   "source": []
  },
  {
   "cell_type": "code",
   "execution_count": null,
   "metadata": {},
   "outputs": [],
   "source": []
  }
 ],
 "metadata": {
  "kernelspec": {
   "display_name": ".venv",
   "language": "python",
   "name": "python3"
  },
  "language_info": {
   "codemirror_mode": {
    "name": "ipython",
    "version": 3
   },
   "file_extension": ".py",
   "mimetype": "text/x-python",
   "name": "python",
   "nbconvert_exporter": "python",
   "pygments_lexer": "ipython3",
   "version": "3.13.2"
  }
 },
 "nbformat": 4,
 "nbformat_minor": 2
}
