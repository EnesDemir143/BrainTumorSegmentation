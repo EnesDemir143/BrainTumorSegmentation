{
 "cells": [
  {
   "cell_type": "code",
   "execution_count": 1,
   "metadata": {},
   "outputs": [],
   "source": [
    "import torch\n",
    "import torch.nn as nn\n",
    "import numpy as np\n",
    "import nibabel as nib"
   ]
  },
  {
   "cell_type": "code",
   "execution_count": 2,
   "metadata": {},
   "outputs": [
    {
     "name": "stderr",
     "output_type": "stream",
     "text": [
      "/Users/enesdemir/Desktop/BrainTumorModel/.venv/lib/python3.13/site-packages/tqdm/auto.py:21: TqdmWarning: IProgress not found. Please update jupyter and ipywidgets. See https://ipywidgets.readthedocs.io/en/stable/user_install.html\n",
      "  from .autonotebook import tqdm as notebook_tqdm\n"
     ]
    },
    {
     "name": "stdout",
     "output_type": "stream",
     "text": [
      "Path to dataset files: /Users/enesdemir/.cache/kagglehub/datasets/awsaf49/brats20-dataset-training-validation/versions/1\n"
     ]
    }
   ],
   "source": [
    "import kagglehub\n",
    "\n",
    "# Download latest version\n",
    "path = kagglehub.dataset_download(\"awsaf49/brats20-dataset-training-validation\")\n",
    "\n",
    "print(\"Path to dataset files:\", path)"
   ]
  },
  {
   "cell_type": "code",
   "execution_count": 7,
   "metadata": {},
   "outputs": [],
   "source": [
    "import os \n",
    "from torch.utils.data import Dataset, DataLoader\n",
    "\n",
    "\n",
    "class BraTSDataset(Dataset):\n",
    "    def __init__(self, folders, transform=None):\n",
    "        self.transform = transform\n",
    "        self.folders = folders\n",
    "    \n",
    "    def __len__(self):\n",
    "        return len(self.folders)\n",
    "    \n",
    "    def __getitem__(self, idx):\n",
    "        temp_data = []\n",
    "        label = None\n",
    "        for nii_files in os.listdir(self.folders[idx]):\n",
    "            img_path = os.path.join(self.folders[idx], nii_files)\n",
    "            tensor = torch.from_numpy(nib.load(img_path).get_fdata()).float()\n",
    "            if \"seg\" in nii_files:\n",
    "                label = tensor\n",
    "            else:\n",
    "                temp_data.append(tensor)\n",
    "        input_tensor = torch.stack(temp_data, dim=0)\n",
    "        \n",
    "        if self.transform:\n",
    "            input_tensor = self.transform(input_tensor)\n",
    "            label = self.transform(label)\n",
    "        \n",
    "        return input_tensor, label\n"
   ]
  },
  {
   "cell_type": "code",
   "execution_count": 8,
   "metadata": {},
   "outputs": [
    {
     "name": "stdout",
     "output_type": "stream",
     "text": [
      "torch.Size([4, 4, 240, 240, 155])\n",
      "torch.Size([4, 240, 240, 155])\n",
      "torch.Size([4, 4, 240, 240, 155])\n",
      "torch.Size([4, 240, 240, 155])\n"
     ]
    }
   ],
   "source": [
    "from sklearn.model_selection import train_test_split\n",
    "\n",
    "path = '/Users/enesdemir/.cache/kagglehub/datasets/awsaf49/brats20-dataset-training-validation/versions/1'\n",
    "real_path = os.path.join(path, 'BraTS2020_TrainingData/MICCAI_BraTS2020_TrainingData')\n",
    "\n",
    "all_folders = [os.path.join(real_path,f) for f in os.listdir(real_path) if not f.endswith('.csv')]\n",
    "\n",
    "train_folders, val_folders = train_test_split(all_folders, test_size=0.2, random_state=42)\n",
    "\n",
    "training_set = BraTSDataset(train_folders)\n",
    "training_loader = DataLoader(training_set,\n",
    "                             batch_size=4,\n",
    "                             shuffle=True,\n",
    "                             num_workers=0)\n",
    "\n",
    "validation_set = BraTSDataset(val_folders)\n",
    "validation_loader = DataLoader(validation_set,\n",
    "                               batch_size=4,\n",
    "                               shuffle=False,\n",
    "                               num_workers=0)\n",
    "\n",
    "for images, labels in training_loader:\n",
    "    print(images.shape)\n",
    "    print(labels.shape)\n",
    "    break\n",
    "\n",
    "for images, labels in validation_loader:\n",
    "    print(images.shape)\n",
    "    print(labels.shape)\n",
    "    break"
   ]
  },
  {
   "cell_type": "code",
   "execution_count": null,
   "metadata": {},
   "outputs": [],
   "source": []
  }
 ],
 "metadata": {
  "kernelspec": {
   "display_name": ".venv",
   "language": "python",
   "name": "python3"
  },
  "language_info": {
   "codemirror_mode": {
    "name": "ipython",
    "version": 3
   },
   "file_extension": ".py",
   "mimetype": "text/x-python",
   "name": "python",
   "nbconvert_exporter": "python",
   "pygments_lexer": "ipython3",
   "version": "3.13.2"
  }
 },
 "nbformat": 4,
 "nbformat_minor": 2
}
