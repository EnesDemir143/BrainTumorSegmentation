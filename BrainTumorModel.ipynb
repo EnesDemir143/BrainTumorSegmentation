{
 "cells": [
  {
   "cell_type": "code",
   "execution_count": 1,
   "metadata": {},
   "outputs": [],
   "source": [
    "import torch\n",
    "import torch.nn as nn\n",
    "import numpy as np\n",
    "import nibabel as nib"
   ]
  },
  {
   "cell_type": "code",
   "execution_count": 2,
   "metadata": {},
   "outputs": [
    {
     "name": "stderr",
     "output_type": "stream",
     "text": [
      "/Users/enesdemir/Desktop/BrainTumorModel/.venv/lib/python3.13/site-packages/tqdm/auto.py:21: TqdmWarning: IProgress not found. Please update jupyter and ipywidgets. See https://ipywidgets.readthedocs.io/en/stable/user_install.html\n",
      "  from .autonotebook import tqdm as notebook_tqdm\n"
     ]
    },
    {
     "name": "stdout",
     "output_type": "stream",
     "text": [
      "Path to dataset files: /Users/enesdemir/.cache/kagglehub/datasets/awsaf49/brats20-dataset-training-validation/versions/1\n"
     ]
    }
   ],
   "source": [
    "import kagglehub\n",
    "\n",
    "# Download latest version\n",
    "path = kagglehub.dataset_download(\"awsaf49/brats20-dataset-training-validation\")\n",
    "\n",
    "print(\"Path to dataset files:\", path)"
   ]
  },
  {
   "cell_type": "code",
   "execution_count": 20,
   "metadata": {},
   "outputs": [],
   "source": [
    "import os \n",
    "from torch.utils.data import Dataset, DataLoader\n",
    "from torchio import Subject, ScalarImage, LabelMap\n",
    "\n",
    "class BraTSDataset(Dataset):\n",
    "    def __init__(self, folders, transform=None):\n",
    "        self.transform = transform\n",
    "        self.folders = folders\n",
    "    \n",
    "    def __len__(self):\n",
    "        return len(self.folders)\n",
    "    \n",
    "    def __getitem__(self, idx):\n",
    "        flair_path = os.path.join(self.folders[idx], f\"{os.path.basename(self.folders[idx])}_flair.nii\")\n",
    "        t1_path = os.path.join(self.folders[idx], f\"{os.path.basename(self.folders[idx])}_t1.nii\")\n",
    "        t1ce_path = os.path.join(self.folders[idx], f\"{os.path.basename(self.folders[idx])}_t1ce.nii\")\n",
    "        t2_path = os.path.join(self.folders[idx], f\"{os.path.basename(self.folders[idx])}_t2.nii\")\n",
    "        seg_path = os.path.join(self.folders[idx], f\"{os.path.basename(self.folders[idx])}_seg.nii\")\n",
    "\n",
    "        subject = Subject(\n",
    "            flair=ScalarImage(flair_path),  \n",
    "            t1ce=ScalarImage(t1ce_path),\n",
    "            t2=ScalarImage(t2_path),\n",
    "            seg=LabelMap(seg_path), \n",
    "            t1=ScalarImage(t1_path)\n",
    "        )\n",
    "\n",
    "        if self.transform:\n",
    "            transformed_subject = self.transform(subject)\n",
    "\n",
    "            input_tensor = torch.stack([\n",
    "                transformed_subject.flair.data,\n",
    "                transformed_subject.t1ce.data,\n",
    "                transformed_subject.t2.data,\n",
    "                transformed_subject.t1.data\n",
    "            ], dim=0)  \n",
    "            label = transformed_subject.seg.data  \n",
    "        else:\n",
    "            \n",
    "            flair = torch.from_numpy(nib.load(flair_path).get_fdata()).float()\n",
    "            t1ce = torch.from_numpy(nib.load(t1ce_path).get_fdata()).float()\n",
    "            t2 = torch.from_numpy(nib.load(t2_path).get_fdata()).float()\n",
    "            t1 = torch.from_numpy(nib.load(t1_path).get_fdata()).float()\n",
    "            input_tensor = torch.stack([flair, t1ce,t2,t1], dim=0)\n",
    "            label = torch.from_numpy(nib.load(seg_path).get_fdata()).float()\n",
    "\n",
    "        return input_tensor, label"
   ]
  },
  {
   "cell_type": "code",
   "execution_count": 17,
   "metadata": {},
   "outputs": [],
   "source": [
    "from sklearn.model_selection import train_test_split\n",
    "\n",
    "path = '/Users/enesdemir/.cache/kagglehub/datasets/awsaf49/brats20-dataset-training-validation/versions/1'\n",
    "real_path = os.path.join(path, 'BraTS2020_TrainingData/MICCAI_BraTS2020_TrainingData')\n",
    "\n",
    "all_folders = [os.path.join(real_path,f) for f in os.listdir(real_path) if not f.endswith('.csv')]\n",
    "\n",
    "train_folders, val_folders = train_test_split(all_folders, test_size=0.2, random_state=42)"
   ]
  },
  {
   "cell_type": "markdown",
   "metadata": {},
   "source": [
    "Aşagıdaki data augmentiona araştırıcam"
   ]
  },
  {
   "cell_type": "code",
   "execution_count": 23,
   "metadata": {},
   "outputs": [],
   "source": [
    "import torchio as tio\n",
    "\n",
    "transform = tio.Compose([\n",
    "    tio.ZNormalization(masking_method=tio.ZNormalization.mean),  # Normalizasyon\n",
    "    tio.RandomAffine(degrees=15, scales=(0.9, 1.1)),  # Augmentation\n",
    "    tio.RandomNoise(std=0.1),  # Gürültü ekleme\n",
    "])"
   ]
  },
  {
   "cell_type": "code",
   "execution_count": null,
   "metadata": {},
   "outputs": [
    {
     "name": "stdout",
     "output_type": "stream",
     "text": [
      "torch.Size([4, 4, 1, 240, 240, 155])\n",
      "torch.Size([4, 1, 240, 240, 155])\n",
      "torch.Size([4, 4, 1, 240, 240, 155])\n",
      "torch.Size([4, 1, 240, 240, 155])\n",
      "295\n"
     ]
    }
   ],
   "source": [
    "training_set = BraTSDataset(train_folders,transform=transform)\n",
    "training_loader = DataLoader(training_set,\n",
    "                             batch_size=4,\n",
    "                             shuffle=True,\n",
    "                             num_workers=0)\n",
    "\n",
    "validation_set = BraTSDataset(val_folders,transform=transform)\n",
    "validation_loader = DataLoader(validation_set,\n",
    "                               batch_size=4,\n",
    "                               shuffle=False,\n",
    "                               num_workers=0)\n",
    "\n",
    "for images, labels in training_loader:\n",
    "    print(images.shape)\n",
    "    print(labels.shape)\n",
    "    break\n",
    "\n",
    "for images, labels in validation_loader:\n",
    "    print(images.shape)\n",
    "    print(labels.shape)\n",
    "    break\n"
   ]
  },
  {
   "cell_type": "code",
   "execution_count": null,
   "metadata": {},
   "outputs": [],
   "source": []
  }
 ],
 "metadata": {
  "kernelspec": {
   "display_name": ".venv",
   "language": "python",
   "name": "python3"
  },
  "language_info": {
   "codemirror_mode": {
    "name": "ipython",
    "version": 3
   },
   "file_extension": ".py",
   "mimetype": "text/x-python",
   "name": "python",
   "nbconvert_exporter": "python",
   "pygments_lexer": "ipython3",
   "version": "3.13.2"
  }
 },
 "nbformat": 4,
 "nbformat_minor": 2
}
